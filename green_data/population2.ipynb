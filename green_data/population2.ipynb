{
 "cells": [
  {
   "cell_type": "markdown",
   "id": "78e59512",
   "metadata": {},
   "source": [
    "### 우리 동네 지역의 남여 성별 인구 분포"
   ]
  },
  {
   "cell_type": "code",
   "execution_count": 6,
   "id": "c1f49fae",
   "metadata": {},
   "outputs": [
    {
     "name": "stdout",
     "output_type": "stream",
     "text": [
      "4,567,739 4,857,134\n"
     ]
    }
   ],
   "source": [
    "import csv\n",
    "\n",
    "with open(\"./datas/gender.csv\", \"rt\") as f:\n",
    "    data = csv.reader(f)\n",
    "    header = next(data)\n",
    "    # print(type(data))\n",
    "    \n",
    "    for row in data:\n",
    "        # print(row)\n",
    "        if '서울특별시' in row[0]:\n",
    "            print(row[2], row[105]) # 남성 총인구, 여성 총인구\n",
    "            break\n"
   ]
  },
  {
   "cell_type": "code",
   "execution_count": null,
   "id": "28aa5847",
   "metadata": {},
   "outputs": [],
   "source": []
  }
 ],
 "metadata": {
  "kernelspec": {
   "display_name": "Python 3 (ipykernel)",
   "language": "python",
   "name": "python3"
  },
  "language_info": {
   "codemirror_mode": {
    "name": "ipython",
    "version": 3
   },
   "file_extension": ".py",
   "mimetype": "text/x-python",
   "name": "python",
   "nbconvert_exporter": "python",
   "pygments_lexer": "ipython3",
   "version": "3.10.9"
  }
 },
 "nbformat": 4,
 "nbformat_minor": 5
}
