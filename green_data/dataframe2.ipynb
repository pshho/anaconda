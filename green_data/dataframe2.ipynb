{
 "cells": [
  {
   "cell_type": "markdown",
   "id": "4844e764",
   "metadata": {},
   "source": [
    "## 운동(practice) 데이터 프레임 만들기"
   ]
  },
  {
   "cell_type": "code",
   "execution_count": 1,
   "id": "2fc93ac3",
   "metadata": {},
   "outputs": [
    {
     "data": {
      "text/html": [
       "<div>\n",
       "<style scoped>\n",
       "    .dataframe tbody tr th:only-of-type {\n",
       "        vertical-align: middle;\n",
       "    }\n",
       "\n",
       "    .dataframe tbody tr th {\n",
       "        vertical-align: top;\n",
       "    }\n",
       "\n",
       "    .dataframe thead th {\n",
       "        text-align: right;\n",
       "    }\n",
       "</style>\n",
       "<table border=\"1\" class=\"dataframe\">\n",
       "  <thead>\n",
       "    <tr style=\"text-align: right;\">\n",
       "      <th></th>\n",
       "      <th>날짜</th>\n",
       "      <th>운동</th>\n",
       "      <th>운동량</th>\n",
       "    </tr>\n",
       "  </thead>\n",
       "  <tbody>\n",
       "  </tbody>\n",
       "</table>\n",
       "</div>"
      ],
      "text/plain": [
       "Empty DataFrame\n",
       "Columns: [날짜, 운동, 운동량]\n",
       "Index: []"
      ]
     },
     "execution_count": 1,
     "metadata": {},
     "output_type": "execute_result"
    }
   ],
   "source": [
    "import pandas as pd\n",
    "\n",
    "practice = pd.DataFrame({\n",
    "    '날짜':[],\n",
    "    '운동':[],\n",
    "    '운동량':[]\n",
    "})\n",
    "practice"
   ]
  },
  {
   "cell_type": "code",
   "execution_count": 2,
   "id": "027a0016",
   "metadata": {},
   "outputs": [
    {
     "data": {
      "text/html": [
       "<div>\n",
       "<style scoped>\n",
       "    .dataframe tbody tr th:only-of-type {\n",
       "        vertical-align: middle;\n",
       "    }\n",
       "\n",
       "    .dataframe tbody tr th {\n",
       "        vertical-align: top;\n",
       "    }\n",
       "\n",
       "    .dataframe thead th {\n",
       "        text-align: right;\n",
       "    }\n",
       "</style>\n",
       "<table border=\"1\" class=\"dataframe\">\n",
       "  <thead>\n",
       "    <tr style=\"text-align: right;\">\n",
       "      <th></th>\n",
       "      <th>날짜</th>\n",
       "      <th>운동</th>\n",
       "      <th>운동량</th>\n",
       "    </tr>\n",
       "  </thead>\n",
       "  <tbody>\n",
       "    <tr>\n",
       "      <th>0</th>\n",
       "      <td>23-3-1</td>\n",
       "      <td>달리기</td>\n",
       "      <td>1</td>\n",
       "    </tr>\n",
       "  </tbody>\n",
       "</table>\n",
       "</div>"
      ],
      "text/plain": [
       "       날짜   운동  운동량\n",
       "0  23-3-1  달리기    1"
      ]
     },
     "execution_count": 2,
     "metadata": {},
     "output_type": "execute_result"
    }
   ],
   "source": [
    "# 데이터 추가, 변경 - loc[]\n",
    "practice.loc[0] = ['23-3-1', '달리기', 1]\n",
    "practice"
   ]
  },
  {
   "cell_type": "code",
   "execution_count": 4,
   "id": "336f9064",
   "metadata": {},
   "outputs": [
    {
     "data": {
      "text/html": [
       "<div>\n",
       "<style scoped>\n",
       "    .dataframe tbody tr th:only-of-type {\n",
       "        vertical-align: middle;\n",
       "    }\n",
       "\n",
       "    .dataframe tbody tr th {\n",
       "        vertical-align: top;\n",
       "    }\n",
       "\n",
       "    .dataframe thead th {\n",
       "        text-align: right;\n",
       "    }\n",
       "</style>\n",
       "<table border=\"1\" class=\"dataframe\">\n",
       "  <thead>\n",
       "    <tr style=\"text-align: right;\">\n",
       "      <th></th>\n",
       "      <th>날짜</th>\n",
       "      <th>운동</th>\n",
       "      <th>운동량</th>\n",
       "    </tr>\n",
       "  </thead>\n",
       "  <tbody>\n",
       "    <tr>\n",
       "      <th>0</th>\n",
       "      <td>23-3-1</td>\n",
       "      <td>달리기</td>\n",
       "      <td>1</td>\n",
       "    </tr>\n",
       "    <tr>\n",
       "      <th>1</th>\n",
       "      <td>23-3-2</td>\n",
       "      <td>걷기</td>\n",
       "      <td>1</td>\n",
       "    </tr>\n",
       "    <tr>\n",
       "      <th>2</th>\n",
       "      <td>23-3-2</td>\n",
       "      <td>달리기</td>\n",
       "      <td>1</td>\n",
       "    </tr>\n",
       "    <tr>\n",
       "      <th>3</th>\n",
       "      <td>23-3-2</td>\n",
       "      <td>계단오르기</td>\n",
       "      <td>1</td>\n",
       "    </tr>\n",
       "  </tbody>\n",
       "</table>\n",
       "</div>"
      ],
      "text/plain": [
       "       날짜     운동  운동량\n",
       "0  23-3-1    달리기    1\n",
       "1  23-3-2     걷기    1\n",
       "2  23-3-2    달리기    1\n",
       "3  23-3-2  계단오르기    1"
      ]
     },
     "execution_count": 4,
     "metadata": {},
     "output_type": "execute_result"
    }
   ],
   "source": [
    "practice.loc[1] = ['23-3-2', '걷기', 1]\n",
    "practice.loc[2] = ['23-3-2', '달리기', 1]\n",
    "practice.loc[3] = ['23-3-2', '계단오르기', 1]\n",
    "practice"
   ]
  },
  {
   "cell_type": "code",
   "execution_count": 5,
   "id": "41d6f682",
   "metadata": {},
   "outputs": [],
   "source": [
    "practice.loc[4] = ['23-3-3', '걷기', 1.5]\n",
    "practice.loc[5] = ['23-3-3', '달리기', 1]"
   ]
  },
  {
   "cell_type": "code",
   "execution_count": 6,
   "id": "80578955",
   "metadata": {},
   "outputs": [
    {
     "data": {
      "text/html": [
       "<div>\n",
       "<style scoped>\n",
       "    .dataframe tbody tr th:only-of-type {\n",
       "        vertical-align: middle;\n",
       "    }\n",
       "\n",
       "    .dataframe tbody tr th {\n",
       "        vertical-align: top;\n",
       "    }\n",
       "\n",
       "    .dataframe thead th {\n",
       "        text-align: right;\n",
       "    }\n",
       "</style>\n",
       "<table border=\"1\" class=\"dataframe\">\n",
       "  <thead>\n",
       "    <tr style=\"text-align: right;\">\n",
       "      <th></th>\n",
       "      <th>날짜</th>\n",
       "      <th>운동</th>\n",
       "      <th>운동량</th>\n",
       "    </tr>\n",
       "  </thead>\n",
       "  <tbody>\n",
       "    <tr>\n",
       "      <th>0</th>\n",
       "      <td>23-3-1</td>\n",
       "      <td>달리기</td>\n",
       "      <td>1.0</td>\n",
       "    </tr>\n",
       "    <tr>\n",
       "      <th>1</th>\n",
       "      <td>23-3-2</td>\n",
       "      <td>걷기</td>\n",
       "      <td>1.0</td>\n",
       "    </tr>\n",
       "    <tr>\n",
       "      <th>2</th>\n",
       "      <td>23-3-2</td>\n",
       "      <td>달리기</td>\n",
       "      <td>1.0</td>\n",
       "    </tr>\n",
       "    <tr>\n",
       "      <th>3</th>\n",
       "      <td>23-3-2</td>\n",
       "      <td>계단오르기</td>\n",
       "      <td>1.0</td>\n",
       "    </tr>\n",
       "    <tr>\n",
       "      <th>4</th>\n",
       "      <td>23-3-3</td>\n",
       "      <td>걷기</td>\n",
       "      <td>1.5</td>\n",
       "    </tr>\n",
       "    <tr>\n",
       "      <th>5</th>\n",
       "      <td>23-3-3</td>\n",
       "      <td>달리기</td>\n",
       "      <td>1.0</td>\n",
       "    </tr>\n",
       "  </tbody>\n",
       "</table>\n",
       "</div>"
      ],
      "text/plain": [
       "       날짜     운동  운동량\n",
       "0  23-3-1    달리기  1.0\n",
       "1  23-3-2     걷기  1.0\n",
       "2  23-3-2    달리기  1.0\n",
       "3  23-3-2  계단오르기  1.0\n",
       "4  23-3-3     걷기  1.5\n",
       "5  23-3-3    달리기  1.0"
      ]
     },
     "execution_count": 6,
     "metadata": {},
     "output_type": "execute_result"
    }
   ],
   "source": [
    "practice"
   ]
  },
  {
   "cell_type": "code",
   "execution_count": 7,
   "id": "723e7913",
   "metadata": {},
   "outputs": [
    {
     "data": {
      "text/html": [
       "<div>\n",
       "<style scoped>\n",
       "    .dataframe tbody tr th:only-of-type {\n",
       "        vertical-align: middle;\n",
       "    }\n",
       "\n",
       "    .dataframe tbody tr th {\n",
       "        vertical-align: top;\n",
       "    }\n",
       "\n",
       "    .dataframe thead th {\n",
       "        text-align: right;\n",
       "    }\n",
       "</style>\n",
       "<table border=\"1\" class=\"dataframe\">\n",
       "  <thead>\n",
       "    <tr style=\"text-align: right;\">\n",
       "      <th></th>\n",
       "      <th>날짜</th>\n",
       "      <th>운동</th>\n",
       "      <th>운동량</th>\n",
       "    </tr>\n",
       "  </thead>\n",
       "  <tbody>\n",
       "    <tr>\n",
       "      <th>0</th>\n",
       "      <td>23-3-1</td>\n",
       "      <td>달리기</td>\n",
       "      <td>1.0</td>\n",
       "    </tr>\n",
       "    <tr>\n",
       "      <th>1</th>\n",
       "      <td>23-3-2</td>\n",
       "      <td>걷기</td>\n",
       "      <td>1.0</td>\n",
       "    </tr>\n",
       "    <tr>\n",
       "      <th>2</th>\n",
       "      <td>23-3-2</td>\n",
       "      <td>달리기</td>\n",
       "      <td>1.0</td>\n",
       "    </tr>\n",
       "    <tr>\n",
       "      <th>3</th>\n",
       "      <td>23-3-2</td>\n",
       "      <td>계단오르기</td>\n",
       "      <td>1.0</td>\n",
       "    </tr>\n",
       "    <tr>\n",
       "      <th>4</th>\n",
       "      <td>23-3-3</td>\n",
       "      <td>걷기</td>\n",
       "      <td>1.5</td>\n",
       "    </tr>\n",
       "    <tr>\n",
       "      <th>5</th>\n",
       "      <td>23-3-3</td>\n",
       "      <td>달리기</td>\n",
       "      <td>1.0</td>\n",
       "    </tr>\n",
       "    <tr>\n",
       "      <th>6</th>\n",
       "      <td>23-3-4</td>\n",
       "      <td>걷기</td>\n",
       "      <td>1.5</td>\n",
       "    </tr>\n",
       "    <tr>\n",
       "      <th>7</th>\n",
       "      <td>23-3-5</td>\n",
       "      <td>달리기</td>\n",
       "      <td>1.0</td>\n",
       "    </tr>\n",
       "    <tr>\n",
       "      <th>8</th>\n",
       "      <td>23-3-6</td>\n",
       "      <td>걷기</td>\n",
       "      <td>2.5</td>\n",
       "    </tr>\n",
       "    <tr>\n",
       "      <th>9</th>\n",
       "      <td>23-3-6</td>\n",
       "      <td>달리기</td>\n",
       "      <td>0.5</td>\n",
       "    </tr>\n",
       "  </tbody>\n",
       "</table>\n",
       "</div>"
      ],
      "text/plain": [
       "       날짜     운동  운동량\n",
       "0  23-3-1    달리기  1.0\n",
       "1  23-3-2     걷기  1.0\n",
       "2  23-3-2    달리기  1.0\n",
       "3  23-3-2  계단오르기  1.0\n",
       "4  23-3-3     걷기  1.5\n",
       "5  23-3-3    달리기  1.0\n",
       "6  23-3-4     걷기  1.5\n",
       "7  23-3-5    달리기  1.0\n",
       "8  23-3-6     걷기  2.5\n",
       "9  23-3-6    달리기  0.5"
      ]
     },
     "execution_count": 7,
     "metadata": {},
     "output_type": "execute_result"
    }
   ],
   "source": [
    "practice.loc[6] = ['23-3-4', '걷기', 1.5]\n",
    "practice.loc[7] = ['23-3-5', '달리기', 1]\n",
    "practice.loc[8] = ['23-3-6', '걷기', 2.5]\n",
    "practice.loc[9] = ['23-3-6', '달리기', 0.5]\n",
    "practice"
   ]
  },
  {
   "cell_type": "code",
   "execution_count": 16,
   "id": "71bab5f6",
   "metadata": {},
   "outputs": [
    {
     "data": {
      "text/html": [
       "<div>\n",
       "<style scoped>\n",
       "    .dataframe tbody tr th:only-of-type {\n",
       "        vertical-align: middle;\n",
       "    }\n",
       "\n",
       "    .dataframe tbody tr th {\n",
       "        vertical-align: top;\n",
       "    }\n",
       "\n",
       "    .dataframe thead th {\n",
       "        text-align: right;\n",
       "    }\n",
       "</style>\n",
       "<table border=\"1\" class=\"dataframe\">\n",
       "  <thead>\n",
       "    <tr style=\"text-align: right;\">\n",
       "      <th></th>\n",
       "      <th>운동량</th>\n",
       "    </tr>\n",
       "    <tr>\n",
       "      <th>운동</th>\n",
       "      <th></th>\n",
       "    </tr>\n",
       "  </thead>\n",
       "  <tbody>\n",
       "    <tr>\n",
       "      <th>걷기</th>\n",
       "      <td>6.5</td>\n",
       "    </tr>\n",
       "    <tr>\n",
       "      <th>계단오르기</th>\n",
       "      <td>1.0</td>\n",
       "    </tr>\n",
       "    <tr>\n",
       "      <th>달리기</th>\n",
       "      <td>4.5</td>\n",
       "    </tr>\n",
       "  </tbody>\n",
       "</table>\n",
       "</div>"
      ],
      "text/plain": [
       "       운동량\n",
       "운동        \n",
       "걷기     6.5\n",
       "계단오르기  1.0\n",
       "달리기    4.5"
      ]
     },
     "execution_count": 16,
     "metadata": {},
     "output_type": "execute_result"
    }
   ],
   "source": [
    "practice.pivot_table(index='운동', values='운동량', aggfunc='sum') # 합계"
   ]
  },
  {
   "cell_type": "code",
   "execution_count": 17,
   "id": "e4bb9ec8",
   "metadata": {},
   "outputs": [
    {
     "data": {
      "text/html": [
       "<div>\n",
       "<style scoped>\n",
       "    .dataframe tbody tr th:only-of-type {\n",
       "        vertical-align: middle;\n",
       "    }\n",
       "\n",
       "    .dataframe tbody tr th {\n",
       "        vertical-align: top;\n",
       "    }\n",
       "\n",
       "    .dataframe thead th {\n",
       "        text-align: right;\n",
       "    }\n",
       "</style>\n",
       "<table border=\"1\" class=\"dataframe\">\n",
       "  <thead>\n",
       "    <tr style=\"text-align: right;\">\n",
       "      <th></th>\n",
       "      <th>운동량</th>\n",
       "    </tr>\n",
       "    <tr>\n",
       "      <th>운동</th>\n",
       "      <th></th>\n",
       "    </tr>\n",
       "  </thead>\n",
       "  <tbody>\n",
       "    <tr>\n",
       "      <th>걷기</th>\n",
       "      <td>1.625</td>\n",
       "    </tr>\n",
       "    <tr>\n",
       "      <th>계단오르기</th>\n",
       "      <td>1.000</td>\n",
       "    </tr>\n",
       "    <tr>\n",
       "      <th>달리기</th>\n",
       "      <td>0.900</td>\n",
       "    </tr>\n",
       "  </tbody>\n",
       "</table>\n",
       "</div>"
      ],
      "text/plain": [
       "         운동량\n",
       "운동          \n",
       "걷기     1.625\n",
       "계단오르기  1.000\n",
       "달리기    0.900"
      ]
     },
     "execution_count": 17,
     "metadata": {},
     "output_type": "execute_result"
    }
   ],
   "source": [
    "practice.pivot_table(index='운동', values='운동량') # 평균"
   ]
  },
  {
   "cell_type": "code",
   "execution_count": 18,
   "id": "bd12ee0f",
   "metadata": {},
   "outputs": [],
   "source": [
    "# to_csv() 파일 만들기\n",
    "practice.to_csv('./datas/practice.csv')"
   ]
  },
  {
   "cell_type": "code",
   "execution_count": 19,
   "id": "d3e3396f",
   "metadata": {},
   "outputs": [],
   "source": [
    "practice = practice.set_index('날짜') # 인덱스를 '날짜'로 설정"
   ]
  },
  {
   "cell_type": "code",
   "execution_count": 20,
   "id": "cb63260c",
   "metadata": {},
   "outputs": [
    {
     "data": {
      "text/html": [
       "<div>\n",
       "<style scoped>\n",
       "    .dataframe tbody tr th:only-of-type {\n",
       "        vertical-align: middle;\n",
       "    }\n",
       "\n",
       "    .dataframe tbody tr th {\n",
       "        vertical-align: top;\n",
       "    }\n",
       "\n",
       "    .dataframe thead th {\n",
       "        text-align: right;\n",
       "    }\n",
       "</style>\n",
       "<table border=\"1\" class=\"dataframe\">\n",
       "  <thead>\n",
       "    <tr style=\"text-align: right;\">\n",
       "      <th></th>\n",
       "      <th>운동</th>\n",
       "      <th>운동량</th>\n",
       "    </tr>\n",
       "    <tr>\n",
       "      <th>날짜</th>\n",
       "      <th></th>\n",
       "      <th></th>\n",
       "    </tr>\n",
       "  </thead>\n",
       "  <tbody>\n",
       "    <tr>\n",
       "      <th>23-3-1</th>\n",
       "      <td>달리기</td>\n",
       "      <td>1.0</td>\n",
       "    </tr>\n",
       "    <tr>\n",
       "      <th>23-3-2</th>\n",
       "      <td>걷기</td>\n",
       "      <td>1.0</td>\n",
       "    </tr>\n",
       "    <tr>\n",
       "      <th>23-3-2</th>\n",
       "      <td>달리기</td>\n",
       "      <td>1.0</td>\n",
       "    </tr>\n",
       "    <tr>\n",
       "      <th>23-3-2</th>\n",
       "      <td>계단오르기</td>\n",
       "      <td>1.0</td>\n",
       "    </tr>\n",
       "    <tr>\n",
       "      <th>23-3-3</th>\n",
       "      <td>걷기</td>\n",
       "      <td>1.5</td>\n",
       "    </tr>\n",
       "    <tr>\n",
       "      <th>23-3-3</th>\n",
       "      <td>달리기</td>\n",
       "      <td>1.0</td>\n",
       "    </tr>\n",
       "    <tr>\n",
       "      <th>23-3-4</th>\n",
       "      <td>걷기</td>\n",
       "      <td>1.5</td>\n",
       "    </tr>\n",
       "    <tr>\n",
       "      <th>23-3-5</th>\n",
       "      <td>달리기</td>\n",
       "      <td>1.0</td>\n",
       "    </tr>\n",
       "    <tr>\n",
       "      <th>23-3-6</th>\n",
       "      <td>걷기</td>\n",
       "      <td>2.5</td>\n",
       "    </tr>\n",
       "    <tr>\n",
       "      <th>23-3-6</th>\n",
       "      <td>달리기</td>\n",
       "      <td>0.5</td>\n",
       "    </tr>\n",
       "  </tbody>\n",
       "</table>\n",
       "</div>"
      ],
      "text/plain": [
       "           운동  운동량\n",
       "날짜                \n",
       "23-3-1    달리기  1.0\n",
       "23-3-2     걷기  1.0\n",
       "23-3-2    달리기  1.0\n",
       "23-3-2  계단오르기  1.0\n",
       "23-3-3     걷기  1.5\n",
       "23-3-3    달리기  1.0\n",
       "23-3-4     걷기  1.5\n",
       "23-3-5    달리기  1.0\n",
       "23-3-6     걷기  2.5\n",
       "23-3-6    달리기  0.5"
      ]
     },
     "execution_count": 20,
     "metadata": {},
     "output_type": "execute_result"
    }
   ],
   "source": [
    "practice"
   ]
  },
  {
   "cell_type": "code",
   "execution_count": 21,
   "id": "2852e586",
   "metadata": {},
   "outputs": [],
   "source": [
    "practice.to_csv('./datas/practice.csv')"
   ]
  },
  {
   "cell_type": "markdown",
   "id": "e5f8ba0f",
   "metadata": {},
   "source": [
    "### 외부파일 읽어오기\n",
    "#### pandas 모듈 사용 - pd.read_csv()"
   ]
  },
  {
   "cell_type": "code",
   "execution_count": 2,
   "id": "056be3c5",
   "metadata": {},
   "outputs": [
    {
     "data": {
      "text/html": [
       "<div>\n",
       "<style scoped>\n",
       "    .dataframe tbody tr th:only-of-type {\n",
       "        vertical-align: middle;\n",
       "    }\n",
       "\n",
       "    .dataframe tbody tr th {\n",
       "        vertical-align: top;\n",
       "    }\n",
       "\n",
       "    .dataframe thead th {\n",
       "        text-align: right;\n",
       "    }\n",
       "</style>\n",
       "<table border=\"1\" class=\"dataframe\">\n",
       "  <thead>\n",
       "    <tr style=\"text-align: right;\">\n",
       "      <th></th>\n",
       "      <th>날짜</th>\n",
       "      <th>운동</th>\n",
       "      <th>운동량</th>\n",
       "    </tr>\n",
       "  </thead>\n",
       "  <tbody>\n",
       "    <tr>\n",
       "      <th>0</th>\n",
       "      <td>23-3-1</td>\n",
       "      <td>달리기</td>\n",
       "      <td>1.0</td>\n",
       "    </tr>\n",
       "    <tr>\n",
       "      <th>1</th>\n",
       "      <td>23-3-2</td>\n",
       "      <td>걷기</td>\n",
       "      <td>1.0</td>\n",
       "    </tr>\n",
       "    <tr>\n",
       "      <th>2</th>\n",
       "      <td>23-3-2</td>\n",
       "      <td>달리기</td>\n",
       "      <td>1.0</td>\n",
       "    </tr>\n",
       "    <tr>\n",
       "      <th>3</th>\n",
       "      <td>23-3-2</td>\n",
       "      <td>계단오르기</td>\n",
       "      <td>1.0</td>\n",
       "    </tr>\n",
       "    <tr>\n",
       "      <th>4</th>\n",
       "      <td>23-3-3</td>\n",
       "      <td>걷기</td>\n",
       "      <td>1.5</td>\n",
       "    </tr>\n",
       "    <tr>\n",
       "      <th>5</th>\n",
       "      <td>23-3-3</td>\n",
       "      <td>달리기</td>\n",
       "      <td>1.0</td>\n",
       "    </tr>\n",
       "    <tr>\n",
       "      <th>6</th>\n",
       "      <td>23-3-4</td>\n",
       "      <td>걷기</td>\n",
       "      <td>1.5</td>\n",
       "    </tr>\n",
       "    <tr>\n",
       "      <th>7</th>\n",
       "      <td>23-3-5</td>\n",
       "      <td>달리기</td>\n",
       "      <td>1.0</td>\n",
       "    </tr>\n",
       "    <tr>\n",
       "      <th>8</th>\n",
       "      <td>23-3-6</td>\n",
       "      <td>걷기</td>\n",
       "      <td>2.5</td>\n",
       "    </tr>\n",
       "    <tr>\n",
       "      <th>9</th>\n",
       "      <td>23-3-6</td>\n",
       "      <td>달리기</td>\n",
       "      <td>0.5</td>\n",
       "    </tr>\n",
       "  </tbody>\n",
       "</table>\n",
       "</div>"
      ],
      "text/plain": [
       "       날짜     운동  운동량\n",
       "0  23-3-1    달리기  1.0\n",
       "1  23-3-2     걷기  1.0\n",
       "2  23-3-2    달리기  1.0\n",
       "3  23-3-2  계단오르기  1.0\n",
       "4  23-3-3     걷기  1.5\n",
       "5  23-3-3    달리기  1.0\n",
       "6  23-3-4     걷기  1.5\n",
       "7  23-3-5    달리기  1.0\n",
       "8  23-3-6     걷기  2.5\n",
       "9  23-3-6    달리기  0.5"
      ]
     },
     "execution_count": 2,
     "metadata": {},
     "output_type": "execute_result"
    }
   ],
   "source": [
    "import pandas as pd\n",
    "\n",
    "exercise = pd.read_csv('./datas/practice.csv')\n",
    "exercise"
   ]
  },
  {
   "cell_type": "code",
   "execution_count": 23,
   "id": "a8c90cb0",
   "metadata": {},
   "outputs": [
    {
     "data": {
      "text/html": [
       "<div>\n",
       "<style scoped>\n",
       "    .dataframe tbody tr th:only-of-type {\n",
       "        vertical-align: middle;\n",
       "    }\n",
       "\n",
       "    .dataframe tbody tr th {\n",
       "        vertical-align: top;\n",
       "    }\n",
       "\n",
       "    .dataframe thead th {\n",
       "        text-align: right;\n",
       "    }\n",
       "</style>\n",
       "<table border=\"1\" class=\"dataframe\">\n",
       "  <thead>\n",
       "    <tr style=\"text-align: right;\">\n",
       "      <th></th>\n",
       "      <th>운동</th>\n",
       "      <th>운동량</th>\n",
       "    </tr>\n",
       "    <tr>\n",
       "      <th>날짜</th>\n",
       "      <th></th>\n",
       "      <th></th>\n",
       "    </tr>\n",
       "  </thead>\n",
       "  <tbody>\n",
       "    <tr>\n",
       "      <th>23-3-1</th>\n",
       "      <td>달리기</td>\n",
       "      <td>1.0</td>\n",
       "    </tr>\n",
       "    <tr>\n",
       "      <th>23-3-2</th>\n",
       "      <td>걷기</td>\n",
       "      <td>1.0</td>\n",
       "    </tr>\n",
       "    <tr>\n",
       "      <th>23-3-2</th>\n",
       "      <td>달리기</td>\n",
       "      <td>1.0</td>\n",
       "    </tr>\n",
       "    <tr>\n",
       "      <th>23-3-2</th>\n",
       "      <td>계단오르기</td>\n",
       "      <td>1.0</td>\n",
       "    </tr>\n",
       "    <tr>\n",
       "      <th>23-3-3</th>\n",
       "      <td>걷기</td>\n",
       "      <td>1.5</td>\n",
       "    </tr>\n",
       "    <tr>\n",
       "      <th>23-3-3</th>\n",
       "      <td>달리기</td>\n",
       "      <td>1.0</td>\n",
       "    </tr>\n",
       "    <tr>\n",
       "      <th>23-3-4</th>\n",
       "      <td>걷기</td>\n",
       "      <td>1.5</td>\n",
       "    </tr>\n",
       "    <tr>\n",
       "      <th>23-3-5</th>\n",
       "      <td>달리기</td>\n",
       "      <td>1.0</td>\n",
       "    </tr>\n",
       "    <tr>\n",
       "      <th>23-3-6</th>\n",
       "      <td>걷기</td>\n",
       "      <td>2.5</td>\n",
       "    </tr>\n",
       "    <tr>\n",
       "      <th>23-3-6</th>\n",
       "      <td>달리기</td>\n",
       "      <td>0.5</td>\n",
       "    </tr>\n",
       "  </tbody>\n",
       "</table>\n",
       "</div>"
      ],
      "text/plain": [
       "           운동  운동량\n",
       "날짜                \n",
       "23-3-1    달리기  1.0\n",
       "23-3-2     걷기  1.0\n",
       "23-3-2    달리기  1.0\n",
       "23-3-2  계단오르기  1.0\n",
       "23-3-3     걷기  1.5\n",
       "23-3-3    달리기  1.0\n",
       "23-3-4     걷기  1.5\n",
       "23-3-5    달리기  1.0\n",
       "23-3-6     걷기  2.5\n",
       "23-3-6    달리기  0.5"
      ]
     },
     "execution_count": 23,
     "metadata": {},
     "output_type": "execute_result"
    }
   ],
   "source": [
    "exercise = pd.read_csv('./datas/practice.csv', index_col=0) # column = 0이 '날짜'\n",
    "exercise"
   ]
  },
  {
   "cell_type": "markdown",
   "id": "ee787f18",
   "metadata": {},
   "source": [
    "## 깊은 복사와 얕은 복사"
   ]
  },
  {
   "cell_type": "code",
   "execution_count": 5,
   "id": "d0794ff9",
   "metadata": {},
   "outputs": [
    {
     "data": {
      "text/plain": [
       "[1, 2, 3, 4]"
      ]
     },
     "execution_count": 5,
     "metadata": {},
     "output_type": "execute_result"
    }
   ],
   "source": [
    "# 얕은 복사\n",
    "a = [1, 2, 3, 4]\n",
    "a"
   ]
  },
  {
   "cell_type": "code",
   "execution_count": 6,
   "id": "9bfeb646",
   "metadata": {},
   "outputs": [
    {
     "data": {
      "text/plain": [
       "[1, 2, 3, 4]"
      ]
     },
     "execution_count": 6,
     "metadata": {},
     "output_type": "execute_result"
    }
   ],
   "source": [
    "# a 리스트를 b로 복사\n",
    "b = a\n",
    "b"
   ]
  },
  {
   "cell_type": "code",
   "execution_count": 7,
   "id": "8e44e2fc",
   "metadata": {},
   "outputs": [
    {
     "data": {
      "text/plain": [
       "[1, 10, 3, 4]"
      ]
     },
     "execution_count": 7,
     "metadata": {},
     "output_type": "execute_result"
    }
   ],
   "source": [
    "# 1번 인덱스 10으로 변경\n",
    "b[1] = 10\n",
    "b"
   ]
  },
  {
   "cell_type": "code",
   "execution_count": 8,
   "id": "fd824788",
   "metadata": {},
   "outputs": [
    {
     "data": {
      "text/plain": [
       "[1, 10, 3, 4]"
      ]
     },
     "execution_count": 8,
     "metadata": {},
     "output_type": "execute_result"
    }
   ],
   "source": [
    "# a 리스트 출력\n",
    "a"
   ]
  },
  {
   "cell_type": "markdown",
   "id": "5bd88cf5",
   "metadata": {},
   "source": [
    "### 깊은 복사\n",
    "#### 원본을 복사한 후 사본을 변경해도 원본은 유지"
   ]
  },
  {
   "cell_type": "code",
   "execution_count": 9,
   "id": "ba538df4",
   "metadata": {},
   "outputs": [
    {
     "data": {
      "text/plain": [
       "[1, 2, 3, 4]"
      ]
     },
     "execution_count": 9,
     "metadata": {},
     "output_type": "execute_result"
    }
   ],
   "source": [
    "c = [1, 2, 3, 4]\n",
    "c"
   ]
  },
  {
   "cell_type": "code",
   "execution_count": 10,
   "id": "83291f7a",
   "metadata": {},
   "outputs": [
    {
     "data": {
      "text/plain": [
       "[1, 2, 3, 4]"
      ]
     },
     "execution_count": 10,
     "metadata": {},
     "output_type": "execute_result"
    }
   ],
   "source": [
    "# copy()를 이용하면 깊은 복사가 됨\n",
    "d = c.copy()\n",
    "d"
   ]
  },
  {
   "cell_type": "code",
   "execution_count": 11,
   "id": "8d6bed3b",
   "metadata": {},
   "outputs": [
    {
     "data": {
      "text/plain": [
       "[1, 10, 3, 4]"
      ]
     },
     "execution_count": 11,
     "metadata": {},
     "output_type": "execute_result"
    }
   ],
   "source": [
    "d[1] = 10\n",
    "d"
   ]
  },
  {
   "cell_type": "code",
   "execution_count": 12,
   "id": "6de78e83",
   "metadata": {},
   "outputs": [
    {
     "data": {
      "text/plain": [
       "[1, 2, 3, 4]"
      ]
     },
     "execution_count": 12,
     "metadata": {},
     "output_type": "execute_result"
    }
   ],
   "source": [
    "# c 리스트 출력\n",
    "c"
   ]
  },
  {
   "cell_type": "code",
   "execution_count": null,
   "id": "ad911c90",
   "metadata": {},
   "outputs": [],
   "source": []
  }
 ],
 "metadata": {
  "kernelspec": {
   "display_name": "Python 3 (ipykernel)",
   "language": "python",
   "name": "python3"
  },
  "language_info": {
   "codemirror_mode": {
    "name": "ipython",
    "version": 3
   },
   "file_extension": ".py",
   "mimetype": "text/x-python",
   "name": "python",
   "nbconvert_exporter": "python",
   "pygments_lexer": "ipython3",
   "version": "3.10.9"
  }
 },
 "nbformat": 4,
 "nbformat_minor": 5
}
