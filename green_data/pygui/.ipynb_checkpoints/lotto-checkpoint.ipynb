{
 "cells": [
  {
   "cell_type": "markdown",
   "id": "0e08bb1d",
   "metadata": {},
   "source": [
    "## 로또 당첨 번호 가져오기"
   ]
  },
  {
   "cell_type": "code",
   "execution_count": 24,
   "id": "b874e364",
   "metadata": {},
   "outputs": [
    {
     "name": "stdout",
     "output_type": "stream",
     "text": [
      "당첨번호\n",
      "['3', '6', '22', '23', '24', '38']\n",
      "보너스번호\n",
      "30\n"
     ]
    }
   ],
   "source": [
    "import requests\n",
    "from bs4 import BeautifulSoup\n",
    "\n",
    "num = 1063\n",
    "url = 'https://www.dhlottery.co.kr/gameResult.do?method=byWin&drwNo={}'.format(num)\n",
    "\n",
    "response = requests.get(url)\n",
    "# print(response.text)\n",
    "\n",
    "soup = BeautifulSoup(response.text, 'html.parser')\n",
    "win_result = soup.select_one('div.win_result') # 태그이름.클래스이름\n",
    "# win_result.text # '\\n' 확인\n",
    "\n",
    "# win_list = win_result.text.split('\\n')\n",
    "# win_list\n",
    "\n",
    "win_list = win_result.text.split('\\n')[7:13]\n",
    "# win_list\n",
    "\n",
    "bonus_num = win_result.text.split('\\n')[-4]\n",
    "# bonus_num\n",
    "\n",
    "print('당첨번호')\n",
    "print(win_list)\n",
    "print('보너스번호')\n",
    "print(bonus_num)"
   ]
  },
  {
   "cell_type": "markdown",
   "id": "c3121ec3",
   "metadata": {},
   "source": [
    "## 로또 당첨 확인앱 제작"
   ]
  },
  {
   "cell_type": "code",
   "execution_count": 61,
   "id": "b89b3a1e",
   "metadata": {},
   "outputs": [],
   "source": [
    "import requests\n",
    "from bs4 import BeautifulSoup\n",
    "from tkinter import *\n",
    "\n",
    "def enter(key):\n",
    "    btn.invoke()\n",
    "\n",
    "def lotto_win():\n",
    "    num = entry.get() # 입력박스에 입력된 값\n",
    "    url = 'https://www.dhlottery.co.kr/gameResult.do?method=byWin&drwNo={}'.format(num)\n",
    "\n",
    "    response = requests.get(url)\n",
    "    soup = BeautifulSoup(response.text, 'html.parser')\n",
    "    win_result = soup.select_one('div.win_result')\n",
    "    win_list = win_result.text.split('\\n')[7:13]\n",
    "    bonus_num = win_result.text.split('\\n')[-4]\n",
    "\n",
    "    # 출력\n",
    "    entry.delete(0, END)\n",
    "    output.delete(0.0, END)\n",
    "    \n",
    "    text = '당첨번호: {}\\n보너스번호: {}'.format(' '.join(win_list), bonus_num)\n",
    "    output.insert(END, text)\n",
    "\n",
    "# lotto_win()\n",
    "\n",
    "window = Tk()\n",
    "window.title('로또 당첨 확인')\n",
    "window.bind(\"<Return>\", enter)\n",
    "\n",
    "Label(window, text='당첨 회차 입력: ').grid(row=0, column=0, sticky=W)\n",
    "entry = Entry(window, width=22)\n",
    "entry.grid(row=0, column=1)\n",
    "btn = Button(window, text='당첨 번호 확인', command=lotto_win)\n",
    "btn.grid(row=0, column=2, sticky=E)\n",
    "\n",
    "# 출력상자\n",
    "output = Text(window, bg='skyblue', width=48, height=5)\n",
    "output.grid(row=1, columnspan=3)\n",
    "\n",
    "window.mainloop()"
   ]
  },
  {
   "cell_type": "code",
   "execution_count": null,
   "id": "22aa9afd",
   "metadata": {},
   "outputs": [],
   "source": []
  }
 ],
 "metadata": {
  "kernelspec": {
   "display_name": "Python 3 (ipykernel)",
   "language": "python",
   "name": "python3"
  },
  "language_info": {
   "codemirror_mode": {
    "name": "ipython",
    "version": 3
   },
   "file_extension": ".py",
   "mimetype": "text/x-python",
   "name": "python",
   "nbconvert_exporter": "python",
   "pygments_lexer": "ipython3",
   "version": "3.10.9"
  }
 },
 "nbformat": 4,
 "nbformat_minor": 5
}
